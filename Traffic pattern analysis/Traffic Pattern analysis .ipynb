{
 "cells": [
  {
   "cell_type": "code",
   "execution_count": 1,
   "id": "8609e493-77b9-4189-9405-efde1be008d8",
   "metadata": {},
   "outputs": [
    {
     "data": {
      "text/html": [
       "<div>\n",
       "<style scoped>\n",
       "    .dataframe tbody tr th:only-of-type {\n",
       "        vertical-align: middle;\n",
       "    }\n",
       "\n",
       "    .dataframe tbody tr th {\n",
       "        vertical-align: top;\n",
       "    }\n",
       "\n",
       "    .dataframe thead th {\n",
       "        text-align: right;\n",
       "    }\n",
       "</style>\n",
       "<table border=\"1\" class=\"dataframe\">\n",
       "  <thead>\n",
       "    <tr style=\"text-align: right;\">\n",
       "      <th></th>\n",
       "      <th>Time</th>\n",
       "      <th>Date</th>\n",
       "      <th>Day of the week</th>\n",
       "      <th>CarCount</th>\n",
       "      <th>BikeCount</th>\n",
       "      <th>BusCount</th>\n",
       "      <th>TruckCount</th>\n",
       "      <th>Total</th>\n",
       "      <th>Traffic Situation</th>\n",
       "    </tr>\n",
       "  </thead>\n",
       "  <tbody>\n",
       "    <tr>\n",
       "      <th>0</th>\n",
       "      <td>12:00:00 AM</td>\n",
       "      <td>10</td>\n",
       "      <td>Tuesday</td>\n",
       "      <td>13</td>\n",
       "      <td>2</td>\n",
       "      <td>2</td>\n",
       "      <td>24</td>\n",
       "      <td>41</td>\n",
       "      <td>normal</td>\n",
       "    </tr>\n",
       "    <tr>\n",
       "      <th>1</th>\n",
       "      <td>12:15:00 AM</td>\n",
       "      <td>10</td>\n",
       "      <td>Tuesday</td>\n",
       "      <td>14</td>\n",
       "      <td>1</td>\n",
       "      <td>1</td>\n",
       "      <td>36</td>\n",
       "      <td>52</td>\n",
       "      <td>normal</td>\n",
       "    </tr>\n",
       "    <tr>\n",
       "      <th>2</th>\n",
       "      <td>12:30:00 AM</td>\n",
       "      <td>10</td>\n",
       "      <td>Tuesday</td>\n",
       "      <td>10</td>\n",
       "      <td>2</td>\n",
       "      <td>2</td>\n",
       "      <td>32</td>\n",
       "      <td>46</td>\n",
       "      <td>normal</td>\n",
       "    </tr>\n",
       "    <tr>\n",
       "      <th>3</th>\n",
       "      <td>12:45:00 AM</td>\n",
       "      <td>10</td>\n",
       "      <td>Tuesday</td>\n",
       "      <td>10</td>\n",
       "      <td>2</td>\n",
       "      <td>2</td>\n",
       "      <td>36</td>\n",
       "      <td>50</td>\n",
       "      <td>normal</td>\n",
       "    </tr>\n",
       "    <tr>\n",
       "      <th>4</th>\n",
       "      <td>1:00:00 AM</td>\n",
       "      <td>10</td>\n",
       "      <td>Tuesday</td>\n",
       "      <td>11</td>\n",
       "      <td>2</td>\n",
       "      <td>1</td>\n",
       "      <td>34</td>\n",
       "      <td>48</td>\n",
       "      <td>normal</td>\n",
       "    </tr>\n",
       "  </tbody>\n",
       "</table>\n",
       "</div>"
      ],
      "text/plain": [
       "          Time  Date Day of the week  CarCount  BikeCount  BusCount  \\\n",
       "0  12:00:00 AM    10         Tuesday        13          2         2   \n",
       "1  12:15:00 AM    10         Tuesday        14          1         1   \n",
       "2  12:30:00 AM    10         Tuesday        10          2         2   \n",
       "3  12:45:00 AM    10         Tuesday        10          2         2   \n",
       "4   1:00:00 AM    10         Tuesday        11          2         1   \n",
       "\n",
       "   TruckCount  Total Traffic Situation  \n",
       "0          24     41            normal  \n",
       "1          36     52            normal  \n",
       "2          32     46            normal  \n",
       "3          36     50            normal  \n",
       "4          34     48            normal  "
      ]
     },
     "metadata": {},
     "output_type": "display_data"
    }
   ],
   "source": [
    "import pandas as pd\n",
    "\n",
    "traffic_df = pd.read_csv(\"C:\\\\Users\\\\SANJAIKRISHNAN\\\\OneDrive\\\\Desktop\\\\Rise 2.0\\\\Traffic pattern analysis\\\\TrafficTwoMonth.csv\")\n",
    "display(traffic_df.head())"
   ]
  },
  {
   "cell_type": "code",
   "execution_count": 2,
   "id": "e80a731d-0fd9-436f-bd95-e3cdff255a07",
   "metadata": {},
   "outputs": [
    {
     "data": {
      "text/html": [
       "<div>\n",
       "<style scoped>\n",
       "    .dataframe tbody tr th:only-of-type {\n",
       "        vertical-align: middle;\n",
       "    }\n",
       "\n",
       "    .dataframe tbody tr th {\n",
       "        vertical-align: top;\n",
       "    }\n",
       "\n",
       "    .dataframe thead th {\n",
       "        text-align: right;\n",
       "    }\n",
       "</style>\n",
       "<table border=\"1\" class=\"dataframe\">\n",
       "  <thead>\n",
       "    <tr style=\"text-align: right;\">\n",
       "      <th></th>\n",
       "      <th>Time</th>\n",
       "      <th>Date</th>\n",
       "      <th>Day of the week</th>\n",
       "      <th>CarCount</th>\n",
       "      <th>BikeCount</th>\n",
       "      <th>BusCount</th>\n",
       "      <th>TruckCount</th>\n",
       "      <th>Total</th>\n",
       "      <th>Traffic Situation</th>\n",
       "    </tr>\n",
       "  </thead>\n",
       "  <tbody>\n",
       "    <tr>\n",
       "      <th>0</th>\n",
       "      <td>12:00:00 AM</td>\n",
       "      <td>10</td>\n",
       "      <td>Tuesday</td>\n",
       "      <td>13</td>\n",
       "      <td>2</td>\n",
       "      <td>2</td>\n",
       "      <td>24</td>\n",
       "      <td>41</td>\n",
       "      <td>normal</td>\n",
       "    </tr>\n",
       "    <tr>\n",
       "      <th>1</th>\n",
       "      <td>12:15:00 AM</td>\n",
       "      <td>10</td>\n",
       "      <td>Tuesday</td>\n",
       "      <td>14</td>\n",
       "      <td>1</td>\n",
       "      <td>1</td>\n",
       "      <td>36</td>\n",
       "      <td>52</td>\n",
       "      <td>normal</td>\n",
       "    </tr>\n",
       "    <tr>\n",
       "      <th>2</th>\n",
       "      <td>12:30:00 AM</td>\n",
       "      <td>10</td>\n",
       "      <td>Tuesday</td>\n",
       "      <td>10</td>\n",
       "      <td>2</td>\n",
       "      <td>2</td>\n",
       "      <td>32</td>\n",
       "      <td>46</td>\n",
       "      <td>normal</td>\n",
       "    </tr>\n",
       "    <tr>\n",
       "      <th>3</th>\n",
       "      <td>12:45:00 AM</td>\n",
       "      <td>10</td>\n",
       "      <td>Tuesday</td>\n",
       "      <td>10</td>\n",
       "      <td>2</td>\n",
       "      <td>2</td>\n",
       "      <td>36</td>\n",
       "      <td>50</td>\n",
       "      <td>normal</td>\n",
       "    </tr>\n",
       "    <tr>\n",
       "      <th>4</th>\n",
       "      <td>1:00:00 AM</td>\n",
       "      <td>10</td>\n",
       "      <td>Tuesday</td>\n",
       "      <td>11</td>\n",
       "      <td>2</td>\n",
       "      <td>1</td>\n",
       "      <td>34</td>\n",
       "      <td>48</td>\n",
       "      <td>normal</td>\n",
       "    </tr>\n",
       "  </tbody>\n",
       "</table>\n",
       "</div>"
      ],
      "text/plain": [
       "          Time  Date Day of the week  CarCount  BikeCount  BusCount  \\\n",
       "0  12:00:00 AM    10         Tuesday        13          2         2   \n",
       "1  12:15:00 AM    10         Tuesday        14          1         1   \n",
       "2  12:30:00 AM    10         Tuesday        10          2         2   \n",
       "3  12:45:00 AM    10         Tuesday        10          2         2   \n",
       "4   1:00:00 AM    10         Tuesday        11          2         1   \n",
       "\n",
       "   TruckCount  Total Traffic Situation  \n",
       "0          24     41            normal  \n",
       "1          36     52            normal  \n",
       "2          32     46            normal  \n",
       "3          36     50            normal  \n",
       "4          34     48            normal  "
      ]
     },
     "metadata": {},
     "output_type": "display_data"
    },
    {
     "name": "stdout",
     "output_type": "stream",
     "text": [
      "<class 'pandas.core.frame.DataFrame'>\n",
      "RangeIndex: 5952 entries, 0 to 5951\n",
      "Data columns (total 9 columns):\n",
      " #   Column             Non-Null Count  Dtype \n",
      "---  ------             --------------  ----- \n",
      " 0   Time               5952 non-null   object\n",
      " 1   Date               5952 non-null   int64 \n",
      " 2   Day of the week    5952 non-null   object\n",
      " 3   CarCount           5952 non-null   int64 \n",
      " 4   BikeCount          5952 non-null   int64 \n",
      " 5   BusCount           5952 non-null   int64 \n",
      " 6   TruckCount         5952 non-null   int64 \n",
      " 7   Total              5952 non-null   int64 \n",
      " 8   Traffic Situation  5952 non-null   object\n",
      "dtypes: int64(6), object(3)\n",
      "memory usage: 418.6+ KB\n"
     ]
    },
    {
     "data": {
      "text/plain": [
       "Time                 0\n",
       "Date                 0\n",
       "Day of the week      0\n",
       "CarCount             0\n",
       "BikeCount            0\n",
       "BusCount             0\n",
       "TruckCount           0\n",
       "Total                0\n",
       "Traffic Situation    0\n",
       "dtype: int64"
      ]
     },
     "metadata": {},
     "output_type": "display_data"
    }
   ],
   "source": [
    "display(traffic_df.head())\n",
    "traffic_df.info()\n",
    "display(traffic_df.isnull().sum())"
   ]
  },
  {
   "cell_type": "code",
   "execution_count": 4,
   "id": "7d035bcb-6488-4626-b72b-feb70441b679",
   "metadata": {},
   "outputs": [
    {
     "name": "stderr",
     "output_type": "stream",
     "text": [
      "C:\\Users\\SANJAIKRISHNAN\\AppData\\Local\\Temp\\ipykernel_26720\\2785359148.py:2: UserWarning: Could not infer format, so each element will be parsed individually, falling back to `dateutil`. To ensure parsing is consistent and as-expected, please specify a format.\n",
      "  traffic_df['DateTime'] = pd.to_datetime('2023-' + traffic_df['Date'].astype(str) + ' ' + traffic_df['Time'].astype(str), errors='coerce')\n",
      "C:\\Users\\SANJAIKRISHNAN\\AppData\\Local\\Temp\\ipykernel_26720\\2785359148.py:5: FutureWarning: 'H' is deprecated and will be removed in a future version, please use 'h' instead.\n",
      "  hourly_traffic = traffic_df['Total'].resample('H').sum()\n"
     ]
    },
    {
     "data": {
      "image/png": "[encoded data removed]",
      "text/plain": [
       "<Figure size 1500x700 with 1 Axes>"
      ]
     },
     "metadata": {},
     "output_type": "display_data"
    }
   ],
   "source": [
    "traffic_df['Time'] = pd.to_datetime(traffic_df['Time'], errors='coerce').dt.time\n",
    "traffic_df['DateTime'] = pd.to_datetime('2023-' + traffic_df['Date'].astype(str) + ' ' + traffic_df['Time'].astype(str), errors='coerce')\n",
    "traffic_df = traffic_df.dropna(subset=['DateTime'])\n",
    "traffic_df = traffic_df.set_index('DateTime')\n",
    "hourly_traffic = traffic_df['Total'].resample('H').sum()\n",
    "\n",
    "plt.figure(figsize=(15, 7))\n",
    "plt.plot(hourly_traffic)\n",
    "plt.xlabel(\"Time\")\n",
    "plt.ylabel(\"Total Traffic\")\n",
    "plt.title(\"Hourly Total Traffic Over Time\")\n",
    "plt.show()"
   ]
  },
  {
   "cell_type": "code",
   "execution_count": 5,
   "id": "87b6dfee-c290-4c15-8ae3-cdbbe4899df6",
   "metadata": {},
   "outputs": [
    {
     "data": {
      "text/plain": [
       "array([], dtype=int64)"
      ]
     },
     "metadata": {},
     "output_type": "display_data"
    }
   ],
   "source": [
    "display(traffic_df['Date'].unique())"
   ]
  },
  {
   "cell_type": "code",
   "execution_count": 7,
   "id": "b187f1ab-fd56-4f12-b8e1-0536463df5bd",
   "metadata": {},
   "outputs": [
    {
     "name": "stderr",
     "output_type": "stream",
     "text": [
      "C:\\Users\\SANJAIKRISHNAN\\AppData\\Local\\Temp\\ipykernel_26720\\1217271859.py:6: UserWarning: Could not infer format, so each element will be parsed individually, falling back to `dateutil`. To ensure parsing is consistent and as-expected, please specify a format.\n",
      "  traffic_df['DateTime'] = pd.to_datetime(traffic_df['Date'].astype(str) + ' ' + traffic_df['Time'].astype(str), errors='coerce')\n"
     ]
    },
    {
     "data": {
      "image/png": "[encoded data removed]",
      "text/plain": [
       "<Figure size 1500x700 with 1 Axes>"
      ]
     },
     "metadata": {},
     "output_type": "display_data"
    }
   ],
   "source": [
    "import pandas as pd\n",
    "import matplotlib.pyplot as plt\n",
    "\n",
    "traffic_df = pd.read_csv(\"C:\\\\Users\\\\SANJAIKRISHNAN\\\\OneDrive\\\\Desktop\\\\Rise 2.0\\\\Traffic pattern analysis\\\\TrafficTwoMonth.csv\")\n",
    "traffic_df['Time'] = pd.to_datetime(traffic_df['Time'], format='%H:%M:%S', errors='coerce').dt.time\n",
    "traffic_df['DateTime'] = pd.to_datetime(traffic_df['Date'].astype(str) + ' ' + traffic_df['Time'].astype(str), errors='coerce')\n",
    "traffic_df = traffic_df.dropna(subset=['DateTime'])\n",
    "traffic_df = traffic_df.set_index('DateTime')\n",
    "hourly_traffic = traffic_df['Total'].resample('h').sum()\n",
    "\n",
    "plt.figure(figsize=(15, 7))\n",
    "plt.plot(hourly_traffic)\n",
    "plt.xlabel(\"Time\")\n",
    "plt.ylabel(\"Total Traffic\")\n",
    "plt.title(\"Hourly Total Traffic Over Time\")\n",
    "plt.show()"
   ]
  },
  {
   "cell_type": "code",
   "execution_count": 8,
   "id": "1f291f0c-b94a-423b-b6ba-665a6d054e0b",
   "metadata": {},
   "outputs": [
    {
     "ename": "ValueError",
     "evalue": "With n_samples=0, test_size=0.2 and train_size=None, the resulting train set will be empty. Adjust any of the aforementioned parameters.",
     "output_type": "error",
     "traceback": [
      "\u001b[1;31m---------------------------------------------------------------------------\u001b[0m",
      "\u001b[1;31mValueError\u001b[0m                                Traceback (most recent call last)",
      "Cell \u001b[1;32mIn[8], line 13\u001b[0m\n\u001b[0;32m     10\u001b[0m y \u001b[38;5;241m=\u001b[39m traffic_df[\u001b[38;5;124m'\u001b[39m\u001b[38;5;124mTotal\u001b[39m\u001b[38;5;124m'\u001b[39m]\n\u001b[0;32m     12\u001b[0m \u001b[38;5;66;03m# 3. Split the data into training and testing sets\u001b[39;00m\n\u001b[1;32m---> 13\u001b[0m X_train, X_test, y_train, y_test \u001b[38;5;241m=\u001b[39m train_test_split(X, y, test_size\u001b[38;5;241m=\u001b[39m\u001b[38;5;241m0.2\u001b[39m, random_state\u001b[38;5;241m=\u001b[39m\u001b[38;5;241m42\u001b[39m)\n\u001b[0;32m     15\u001b[0m \u001b[38;5;66;03m# 4. Train a linear regression model\u001b[39;00m\n\u001b[0;32m     16\u001b[0m model \u001b[38;5;241m=\u001b[39m LinearRegression()\n",
      "File \u001b[1;32m~\\.anaconda\\konda\\Lib\\site-packages\\sklearn\\utils\\_param_validation.py:213\u001b[0m, in \u001b[0;36mvalidate_params.<locals>.decorator.<locals>.wrapper\u001b[1;34m(*args, **kwargs)\u001b[0m\n\u001b[0;32m    207\u001b[0m \u001b[38;5;28;01mtry\u001b[39;00m:\n\u001b[0;32m    208\u001b[0m     \u001b[38;5;28;01mwith\u001b[39;00m config_context(\n\u001b[0;32m    209\u001b[0m         skip_parameter_validation\u001b[38;5;241m=\u001b[39m(\n\u001b[0;32m    210\u001b[0m             prefer_skip_nested_validation \u001b[38;5;129;01mor\u001b[39;00m global_skip_validation\n\u001b[0;32m    211\u001b[0m         )\n\u001b[0;32m    212\u001b[0m     ):\n\u001b[1;32m--> 213\u001b[0m         \u001b[38;5;28;01mreturn\u001b[39;00m func(\u001b[38;5;241m*\u001b[39margs, \u001b[38;5;241m*\u001b[39m\u001b[38;5;241m*\u001b[39mkwargs)\n\u001b[0;32m    214\u001b[0m \u001b[38;5;28;01mexcept\u001b[39;00m InvalidParameterError \u001b[38;5;28;01mas\u001b[39;00m e:\n\u001b[0;32m    215\u001b[0m     \u001b[38;5;66;03m# When the function is just a wrapper around an estimator, we allow\u001b[39;00m\n\u001b[0;32m    216\u001b[0m     \u001b[38;5;66;03m# the function to delegate validation to the estimator, but we replace\u001b[39;00m\n\u001b[0;32m    217\u001b[0m     \u001b[38;5;66;03m# the name of the estimator by the name of the function in the error\u001b[39;00m\n\u001b[0;32m    218\u001b[0m     \u001b[38;5;66;03m# message to avoid confusion.\u001b[39;00m\n\u001b[0;32m    219\u001b[0m     msg \u001b[38;5;241m=\u001b[39m re\u001b[38;5;241m.\u001b[39msub(\n\u001b[0;32m    220\u001b[0m         \u001b[38;5;124mr\u001b[39m\u001b[38;5;124m\"\u001b[39m\u001b[38;5;124mparameter of \u001b[39m\u001b[38;5;124m\\\u001b[39m\u001b[38;5;124mw+ must be\u001b[39m\u001b[38;5;124m\"\u001b[39m,\n\u001b[0;32m    221\u001b[0m         \u001b[38;5;124mf\u001b[39m\u001b[38;5;124m\"\u001b[39m\u001b[38;5;124mparameter of \u001b[39m\u001b[38;5;132;01m{\u001b[39;00mfunc\u001b[38;5;241m.\u001b[39m\u001b[38;5;18m__qualname__\u001b[39m\u001b[38;5;132;01m}\u001b[39;00m\u001b[38;5;124m must be\u001b[39m\u001b[38;5;124m\"\u001b[39m,\n\u001b[0;32m    222\u001b[0m         \u001b[38;5;28mstr\u001b[39m(e),\n\u001b[0;32m    223\u001b[0m     )\n",
      "File \u001b[1;32m~\\.anaconda\\konda\\Lib\\site-packages\\sklearn\\model_selection\\_split.py:2660\u001b[0m, in \u001b[0;36mtrain_test_split\u001b[1;34m(test_size, train_size, random_state, shuffle, stratify, *arrays)\u001b[0m\n\u001b[0;32m   2657\u001b[0m arrays \u001b[38;5;241m=\u001b[39m indexable(\u001b[38;5;241m*\u001b[39marrays)\n\u001b[0;32m   2659\u001b[0m n_samples \u001b[38;5;241m=\u001b[39m _num_samples(arrays[\u001b[38;5;241m0\u001b[39m])\n\u001b[1;32m-> 2660\u001b[0m n_train, n_test \u001b[38;5;241m=\u001b[39m _validate_shuffle_split(\n\u001b[0;32m   2661\u001b[0m     n_samples, test_size, train_size, default_test_size\u001b[38;5;241m=\u001b[39m\u001b[38;5;241m0.25\u001b[39m\n\u001b[0;32m   2662\u001b[0m )\n\u001b[0;32m   2664\u001b[0m \u001b[38;5;28;01mif\u001b[39;00m shuffle \u001b[38;5;129;01mis\u001b[39;00m \u001b[38;5;28;01mFalse\u001b[39;00m:\n\u001b[0;32m   2665\u001b[0m     \u001b[38;5;28;01mif\u001b[39;00m stratify \u001b[38;5;129;01mis\u001b[39;00m \u001b[38;5;129;01mnot\u001b[39;00m \u001b[38;5;28;01mNone\u001b[39;00m:\n",
      "File \u001b[1;32m~\\.anaconda\\konda\\Lib\\site-packages\\sklearn\\model_selection\\_split.py:2308\u001b[0m, in \u001b[0;36m_validate_shuffle_split\u001b[1;34m(n_samples, test_size, train_size, default_test_size)\u001b[0m\n\u001b[0;32m   2305\u001b[0m n_train, n_test \u001b[38;5;241m=\u001b[39m \u001b[38;5;28mint\u001b[39m(n_train), \u001b[38;5;28mint\u001b[39m(n_test)\n\u001b[0;32m   2307\u001b[0m \u001b[38;5;28;01mif\u001b[39;00m n_train \u001b[38;5;241m==\u001b[39m \u001b[38;5;241m0\u001b[39m:\n\u001b[1;32m-> 2308\u001b[0m     \u001b[38;5;28;01mraise\u001b[39;00m \u001b[38;5;167;01mValueError\u001b[39;00m(\n\u001b[0;32m   2309\u001b[0m         \u001b[38;5;124m\"\u001b[39m\u001b[38;5;124mWith n_samples=\u001b[39m\u001b[38;5;132;01m{}\u001b[39;00m\u001b[38;5;124m, test_size=\u001b[39m\u001b[38;5;132;01m{}\u001b[39;00m\u001b[38;5;124m and train_size=\u001b[39m\u001b[38;5;132;01m{}\u001b[39;00m\u001b[38;5;124m, the \u001b[39m\u001b[38;5;124m\"\u001b[39m\n\u001b[0;32m   2310\u001b[0m         \u001b[38;5;124m\"\u001b[39m\u001b[38;5;124mresulting train set will be empty. Adjust any of the \u001b[39m\u001b[38;5;124m\"\u001b[39m\n\u001b[0;32m   2311\u001b[0m         \u001b[38;5;124m\"\u001b[39m\u001b[38;5;124maforementioned parameters.\u001b[39m\u001b[38;5;124m\"\u001b[39m\u001b[38;5;241m.\u001b[39mformat(n_samples, test_size, train_size)\n\u001b[0;32m   2312\u001b[0m     )\n\u001b[0;32m   2314\u001b[0m \u001b[38;5;28;01mreturn\u001b[39;00m n_train, n_test\n",
      "\u001b[1;31mValueError\u001b[0m: With n_samples=0, test_size=0.2 and train_size=None, the resulting train set will be empty. Adjust any of the aforementioned parameters."
     ]
    }
   ],
   "source": [
    "from sklearn.model_selection import train_test_split\n",
    "from sklearn.linear_model import LinearRegression\n",
    "from sklearn.metrics import mean_absolute_error, mean_squared_error\n",
    "\n",
    "# 1. Create a new column for the hour of the day\n",
    "traffic_df['Hour'] = traffic_df.index.hour\n",
    "\n",
    "# 2. Define features (X) and target variable (y)\n",
    "X = traffic_df[['Hour']]\n",
    "y = traffic_df['Total']\n",
    "\n",
    "# 3. Split the data into training and testing sets\n",
    "X_train, X_test, y_train, y_test = train_test_split(X, y, test_size=0.2, random_state=42)\n",
    "\n",
    "# 4. Train a linear regression model\n",
    "model = LinearRegression()\n",
    "model.fit(X_train, y_train)\n",
    "\n",
    "# 5. Evaluate the model's performance\n",
    "y_pred = model.predict(X_test)\n",
    "mae = mean_absolute_error(y_test, y_pred)\n",
    "mse = mean_squared_error(y_test, y_pred)\n",
    "print(f\"Mean Absolute Error: {mae}\")\n",
    "print(f\"Mean Squared Error: {mse}\")\n",
    "\n",
    "# 6. Predict traffic volume for each hour of the day\n",
    "# Create a DataFrame with all possible hours (0 to 23)\n",
    "hours_of_day = pd.DataFrame({'Hour': range(24)})\n",
    "predicted_traffic = model.predict(hours_of_day)\n",
    "\n",
    "# 7. Identify the hours with the highest predicted traffic volume\n",
    "predicted_peak_hours_indices = predicted_traffic.argsort()[-3:][::-1] # Get top 3 hours\n",
    "predicted_peak_hours = hours_of_day.iloc[predicted_peak_hours_indices]['Hour'].tolist()\n",
    "\n",
    "print(f\"Predicted peak hours: {predicted_peak_hours}\")"
   ]
  },
  {
   "cell_type": "code",
   "execution_count": 9,
   "id": "4ce078f4-6dd5-49a2-bbff-e4c7338104f4",
   "metadata": {},
   "outputs": [
    {
     "name": "stdout",
     "output_type": "stream",
     "text": [
      "Original 'Date' column head:\n"
     ]
    },
    {
     "data": {
      "text/plain": [
       "0    10\n",
       "1    10\n",
       "2    10\n",
       "3    10\n",
       "4    10\n",
       "Name: Date, dtype: int64"
      ]
     },
     "metadata": {},
     "output_type": "display_data"
    },
    {
     "name": "stdout",
     "output_type": "stream",
     "text": [
      "\n",
      "Original 'Time' column head:\n"
     ]
    },
    {
     "data": {
      "text/plain": [
       "0    12:00:00 AM\n",
       "1    12:15:00 AM\n",
       "2    12:30:00 AM\n",
       "3    12:45:00 AM\n",
       "4     1:00:00 AM\n",
       "Name: Time, dtype: object"
      ]
     },
     "metadata": {},
     "output_type": "display_data"
    },
    {
     "name": "stdout",
     "output_type": "stream",
     "text": [
      "\n",
      "DataFrame head after loading and preprocessing:\n"
     ]
    },
    {
     "data": {
      "text/html": [
       "<div>\n",
       "<style scoped>\n",
       "    .dataframe tbody tr th:only-of-type {\n",
       "        vertical-align: middle;\n",
       "    }\n",
       "\n",
       "    .dataframe tbody tr th {\n",
       "        vertical-align: top;\n",
       "    }\n",
       "\n",
       "    .dataframe thead th {\n",
       "        text-align: right;\n",
       "    }\n",
       "</style>\n",
       "<table border=\"1\" class=\"dataframe\">\n",
       "  <thead>\n",
       "    <tr style=\"text-align: right;\">\n",
       "      <th></th>\n",
       "      <th>Time</th>\n",
       "      <th>Date</th>\n",
       "      <th>Day of the week</th>\n",
       "      <th>CarCount</th>\n",
       "      <th>BikeCount</th>\n",
       "      <th>BusCount</th>\n",
       "      <th>TruckCount</th>\n",
       "      <th>Total</th>\n",
       "      <th>Traffic Situation</th>\n",
       "      <th>Date_dt</th>\n",
       "    </tr>\n",
       "    <tr>\n",
       "      <th>DateTime</th>\n",
       "      <th></th>\n",
       "      <th></th>\n",
       "      <th></th>\n",
       "      <th></th>\n",
       "      <th></th>\n",
       "      <th></th>\n",
       "      <th></th>\n",
       "      <th></th>\n",
       "      <th></th>\n",
       "      <th></th>\n",
       "    </tr>\n",
       "  </thead>\n",
       "  <tbody>\n",
       "  </tbody>\n",
       "</table>\n",
       "</div>"
      ],
      "text/plain": [
       "Empty DataFrame\n",
       "Columns: [Time, Date, Day of the week, CarCount, BikeCount, BusCount, TruckCount, Total, Traffic Situation, Date_dt]\n",
       "Index: []"
      ]
     },
     "metadata": {},
     "output_type": "display_data"
    },
    {
     "name": "stdout",
     "output_type": "stream",
     "text": [
      "\n",
      "DataFrame shape after loading and preprocessing:\n",
      "(0, 10)\n",
      "DataFrame is empty after preprocessing. Cannot proceed with model training.\n"
     ]
    }
   ],
   "source": [
    "import pandas as pd\n",
    "from sklearn.model_selection import train_test_split\n",
    "from sklearn.linear_model import LinearRegression\n",
    "from sklearn.metrics import mean_absolute_error, mean_squared_error\n",
    "\n",
    "# Reload the data\n",
    "traffic_df = pd.read_csv(\"C:\\\\Users\\\\SANJAIKRISHNAN\\\\OneDrive\\\\Desktop\\\\Rise 2.0\\\\Traffic pattern analysis\\\\TrafficTwoMonth.csv\")\n",
    "\n",
    "# Inspect the original 'Date' and 'Time' columns\n",
    "print(\"Original 'Date' column head:\")\n",
    "display(traffic_df['Date'].head())\n",
    "print(\"\\nOriginal 'Time' column head:\")\n",
    "display(traffic_df['Time'].head())\n",
    "\n",
    "# Attempt to create a datetime column by combining 'Date' and 'Time'\n",
    "# Try parsing 'Date' first, then combine with 'Time'\n",
    "try:\n",
    "    traffic_df['Date_dt'] = pd.to_datetime(traffic_df['Date'], errors='coerce')\n",
    "    traffic_df['DateTime'] = pd.to_datetime(traffic_df['Date_dt'].dt.strftime('%Y-%m-%d') + ' ' + traffic_df['Time'], format='%Y-%m-%d %H:%M:%S', errors='coerce')\n",
    "except Exception as e:\n",
    "    print(f\"Attempt 1 failed: {e}\")\n",
    "    # If the first attempt fails, try a different format or combination\n",
    "    try:\n",
    "        # Assuming 'Date' is already in a format pandas can infer or is '%d/%m/%Y'\n",
    "        traffic_df['DateTime'] = pd.to_datetime(traffic_df['Date'].astype(str) + ' ' + traffic_df['Time'], errors='coerce')\n",
    "    except Exception as e:\n",
    "        print(f\"Attempt 2 failed: {e}\")\n",
    "        # If both attempts fail, the format is unknown, drop rows where conversion failed\n",
    "        traffic_df['DateTime'] = pd.to_datetime(traffic_df['Date'].astype(str) + ' ' + traffic_df['Time'], format='%d %H:%M:%S', errors='coerce')\n",
    "\n",
    "\n",
    "# Drop rows where DateTime could not be parsed\n",
    "traffic_df = traffic_df.dropna(subset=['DateTime'])\n",
    "\n",
    "# Set DateTime as index\n",
    "traffic_df = traffic_df.set_index('DateTime')\n",
    "\n",
    "# Inspect the dataframe after loading and preprocessing\n",
    "print(\"\\nDataFrame head after loading and preprocessing:\")\n",
    "display(traffic_df.head())\n",
    "print(\"\\nDataFrame shape after loading and preprocessing:\")\n",
    "print(traffic_df.shape)\n",
    "\n",
    "# Check if the dataframe is still empty\n",
    "if traffic_df.empty:\n",
    "    print(\"DataFrame is empty after preprocessing. Cannot proceed with model training.\")\n",
    "else:\n",
    "    # 1. Create a new column for the hour of the day\n",
    "    traffic_df['Hour'] = traffic_df.index.hour\n",
    "\n",
    "    # 2. Define features (X) and target variable (y)\n",
    "    X = traffic_df[['Hour']]\n",
    "    y = traffic_df['Total']\n",
    "\n",
    "    # 3. Split the data into training and testing sets\n",
    "    X_train, X_test, y_train, y_test = train_test_split(X, y, test_size=0.2, random_state=42)\n",
    "\n",
    "    # 4. Train a linear regression model\n",
    "    model = LinearRegression()\n",
    "    model.fit(X_train, y_train)\n",
    "\n",
    "    # 5. Evaluate the model's performance\n",
    "    y_pred = model.predict(X_test)\n",
    "    mae = mean_absolute_error(y_test, y_pred)\n",
    "    mse = mean_squared_error(y_test, y_pred)\n",
    "    print(f\"\\nMean Absolute Error: {mae}\")\n",
    "    print(f\"Mean Squared Error: {mse}\")\n",
    "\n",
    "    # 6. Predict traffic volume for each hour of the day\n",
    "    # Create a DataFrame with all possible hours (0 to 23)\n",
    "    hours_of_day = pd.DataFrame({'Hour': range(24)})\n",
    "    predicted_traffic = model.predict(hours_of_day)\n",
    "\n",
    "    # 7. Identify the hours with the highest predicted traffic volume\n",
    "    predicted_peak_hours_indices = predicted_traffic.argsort()[-3:][::-1] # Get top 3 hours\n",
    "    predicted_peak_hours = hours_of_day.iloc[predicted_peak_hours_indices]['Hour'].tolist()\n",
    "\n",
    "    print(f\"\\nPredicted peak hours: {predicted_peak_hours}\")\n"
   ]
  },
  {
   "cell_type": "code",
   "execution_count": 10,
   "id": "5d2bd478-a267-4273-a9ee-006c920ea41d",
   "metadata": {},
   "outputs": [
    {
     "ename": "NameError",
     "evalue": "name 'model' is not defined",
     "output_type": "error",
     "traceback": [
      "\u001b[1;31m---------------------------------------------------------------------------\u001b[0m",
      "\u001b[1;31mNameError\u001b[0m                                 Traceback (most recent call last)",
      "Cell \u001b[1;32mIn[10], line 9\u001b[0m\n\u001b[0;32m      7\u001b[0m \u001b[38;5;66;03m# Create a DataFrame for predicted traffic for each hour (0-23)\u001b[39;00m\n\u001b[0;32m      8\u001b[0m hours_of_day \u001b[38;5;241m=\u001b[39m pd\u001b[38;5;241m.\u001b[39mDataFrame({\u001b[38;5;124m'\u001b[39m\u001b[38;5;124mHour\u001b[39m\u001b[38;5;124m'\u001b[39m: \u001b[38;5;28mrange\u001b[39m(\u001b[38;5;241m24\u001b[39m)})\n\u001b[1;32m----> 9\u001b[0m predicted_traffic \u001b[38;5;241m=\u001b[39m model\u001b[38;5;241m.\u001b[39mpredict(hours_of_day)\n\u001b[0;32m     10\u001b[0m predicted_traffic_df \u001b[38;5;241m=\u001b[39m hours_of_day\u001b[38;5;241m.\u001b[39mcopy()\n\u001b[0;32m     11\u001b[0m predicted_traffic_df[\u001b[38;5;124m'\u001b[39m\u001b[38;5;124mTotal_Predicted\u001b[39m\u001b[38;5;124m'\u001b[39m] \u001b[38;5;241m=\u001b[39m predicted_traffic\n",
      "\u001b[1;31mNameError\u001b[0m: name 'model' is not defined"
     ]
    },
    {
     "data": {
      "image/png": "[encoded data removed]",
      "text/plain": [
       "<Figure size 1000x600 with 1 Axes>"
      ]
     },
     "metadata": {},
     "output_type": "display_data"
    }
   ],
   "source": [
    "import matplotlib.pyplot as plt\n",
    "\n",
    "# Create a scatter plot of the actual data\n",
    "plt.figure(figsize=(10, 6))\n",
    "plt.scatter(X, y, alpha=0.5, label='Actual Traffic')\n",
    "\n",
    "# Create a DataFrame for predicted traffic for each hour (0-23)\n",
    "hours_of_day = pd.DataFrame({'Hour': range(24)})\n",
    "predicted_traffic = model.predict(hours_of_day)\n",
    "predicted_traffic_df = hours_of_day.copy()\n",
    "predicted_traffic_df['Total_Predicted'] = predicted_traffic\n",
    "\n",
    "# Sort the predicted values by hour to plot the line correctly\n",
    "predicted_traffic_df = predicted_traffic_df.sort_values(by='Hour')\n",
    "\n",
    "# Overlay the linear regression model's predictions\n",
    "plt.plot(predicted_traffic_df['Hour'], predicted_traffic_df['Total_Predicted'], color='red', label='Linear Regression Prediction')\n",
    "\n",
    "# Add title and labels\n",
    "plt.title('Actual vs. Predicted Total Traffic by Hour')\n",
    "plt.xlabel('Hour of Day')\n",
    "plt.ylabel('Total Traffic')\n",
    "plt.legend()\n",
    "plt.grid(True)\n",
    "\n",
    "# Display the plot\n",
    "plt.show()"
   ]
  },
  {
   "cell_type": "code",
   "execution_count": 11,
   "id": "2e0a3479-06e9-488b-a993-d27e6c04f9bd",
   "metadata": {},
   "outputs": [
    {
     "name": "stdout",
     "output_type": "stream",
     "text": [
      "## Traffic Analysis Summary and Implications\n",
      "\n",
      "### Observed Traffic Patterns\n",
      "Based on the hourly traffic plot, a clear daily pattern is observed with two significant peak periods:\n",
      "- **Morning Peak:** Traffic volume increases significantly starting around 6-7 AM and peaking between 8-10 AM.\n",
      "- **Evening Peak:** Traffic volume rises again in the afternoon, typically peaking between 4-7 PM.\n",
      "Traffic is considerably lower during nighttime hours (roughly 10 PM to 5 AM). This consistent daily cycle reflects typical commuting behavior.\n",
      "\n",
      "### Regression Model Findings\n",
      "A linear regression model was trained to predict total traffic based on the hour of the day.\n",
      "- **Model Performance:** The model's performance was evaluated using Mean Absolute Error (MAE) and Mean Squared Error (MSE).\n"
     ]
    },
    {
     "ename": "NameError",
     "evalue": "name 'mae' is not defined",
     "output_type": "error",
     "traceback": [
      "\u001b[1;31m---------------------------------------------------------------------------\u001b[0m",
      "\u001b[1;31mNameError\u001b[0m                                 Traceback (most recent call last)",
      "Cell \u001b[1;32mIn[11], line 14\u001b[0m\n\u001b[0;32m     12\u001b[0m \u001b[38;5;28mprint\u001b[39m(\u001b[38;5;124m\"\u001b[39m\u001b[38;5;124mA linear regression model was trained to predict total traffic based on the hour of the day.\u001b[39m\u001b[38;5;124m\"\u001b[39m)\n\u001b[0;32m     13\u001b[0m \u001b[38;5;28mprint\u001b[39m(\u001b[38;5;124mf\u001b[39m\u001b[38;5;124m\"\u001b[39m\u001b[38;5;124m- **Model Performance:** The model\u001b[39m\u001b[38;5;124m'\u001b[39m\u001b[38;5;124ms performance was evaluated using Mean Absolute Error (MAE) and Mean Squared Error (MSE).\u001b[39m\u001b[38;5;124m\"\u001b[39m)\n\u001b[1;32m---> 14\u001b[0m \u001b[38;5;28mprint\u001b[39m(\u001b[38;5;124mf\u001b[39m\u001b[38;5;124m\"\u001b[39m\u001b[38;5;124m  - MAE: \u001b[39m\u001b[38;5;132;01m{\u001b[39;00mmae\u001b[38;5;132;01m:\u001b[39;00m\u001b[38;5;124m.2f\u001b[39m\u001b[38;5;132;01m}\u001b[39;00m\u001b[38;5;124m\"\u001b[39m)\n\u001b[0;32m     15\u001b[0m \u001b[38;5;28mprint\u001b[39m(\u001b[38;5;124mf\u001b[39m\u001b[38;5;124m\"\u001b[39m\u001b[38;5;124m  - MSE: \u001b[39m\u001b[38;5;132;01m{\u001b[39;00mmse\u001b[38;5;132;01m:\u001b[39;00m\u001b[38;5;124m.2f\u001b[39m\u001b[38;5;132;01m}\u001b[39;00m\u001b[38;5;124m\"\u001b[39m)\n\u001b[0;32m     16\u001b[0m \u001b[38;5;28mprint\u001b[39m(\u001b[38;5;124m\"\u001b[39m\u001b[38;5;124m  The MAE indicates that, on average, the model\u001b[39m\u001b[38;5;124m'\u001b[39m\u001b[38;5;124ms predictions are off by approximately \u001b[39m\u001b[38;5;132;01m{mae:.2f}\u001b[39;00m\u001b[38;5;124m vehicles. The MSE gives more weight to larger errors.\u001b[39m\u001b[38;5;124m\"\u001b[39m)\n",
      "\u001b[1;31mNameError\u001b[0m: name 'mae' is not defined"
     ]
    }
   ],
   "source": [
    "# Summarize the findings\n",
    "\n",
    "print(\"## Traffic Analysis Summary and Implications\")\n",
    "\n",
    "print(\"\\n### Observed Traffic Patterns\")\n",
    "print(\"Based on the hourly traffic plot, a clear daily pattern is observed with two significant peak periods:\")\n",
    "print(\"- **Morning Peak:** Traffic volume increases significantly starting around 6-7 AM and peaking between 8-10 AM.\")\n",
    "print(\"- **Evening Peak:** Traffic volume rises again in the afternoon, typically peaking between 4-7 PM.\")\n",
    "print(\"Traffic is considerably lower during nighttime hours (roughly 10 PM to 5 AM). This consistent daily cycle reflects typical commuting behavior.\")\n",
    "\n",
    "print(\"\\n### Regression Model Findings\")\n",
    "print(\"A linear regression model was trained to predict total traffic based on the hour of the day.\")\n",
    "print(f\"- **Model Performance:** The model's performance was evaluated using Mean Absolute Error (MAE) and Mean Squared Error (MSE).\")\n",
    "print(f\"  - MAE: {mae:.2f}\")\n",
    "print(f\"  - MSE: {mse:.2f}\")\n",
    "print(\"  The MAE indicates that, on average, the model's predictions are off by approximately {mae:.2f} vehicles. The MSE gives more weight to larger errors.\")\n",
    "print(\"  The scatter plot with the regression line shows that the linear model captures a general upward trend throughout the day, but it does not accurately represent the distinct morning and evening peaks observed in the actual data. This suggests that a simple linear model is not sufficient to capture the complex non-linear relationship between the hour of the day and traffic volume.\")\n",
    "\n",
    "# Find the actual peak hours based on the aggregated hourly traffic\n",
    "hourly_traffic = traffic_df.groupby('Hour')['Total'].mean()\n",
    "observed_peak_hours = hourly_traffic.nlargest(3).index.tolist()\n",
    "\n",
    "print(f\"\\n### Peak Hour Comparison\")\n",
    "print(f\"- **Observed Peak Hours (based on average hourly traffic):** {observed_peak_hours}\")\n",
    "# Predicted peak hours were calculated in the previous step and are available in predicted_peak_hours variable\n",
    "\n",
    "print(f\"- **Predicted Peak Hours (based on linear regression model):** {predicted_peak_hours}\")\n",
    "print(\"The linear regression model predicts peak hours at the end of the day, which significantly deviates from the observed morning and evening peaks. This further highlights the limitation of the linear model for this dataset.\")\n",
    "\n",
    "print(\"\\n### Implications for City Planning and Route Suggestions\")\n",
    "print(\"The findings have several implications:\")\n",
    "print(\"- **Infrastructure Planning:** City planners should focus on expanding capacity and improving traffic flow during the observed morning (8-10 AM) and evening (4-7 PM) peak hours. This could involve optimizing traffic light timings, adding lanes, or developing alternative transportation options during these times.\")\n",
    "print(\"- **Route Optimization:** For route suggestions, real-time traffic data is crucial, but general recommendations can be made based on the predictable daily pattern. Drivers could be advised to avoid major routes during the observed peak hours if possible.\")\n",
    "print(\"- **Public Transportation:** The clear peak hours suggest that investing in and promoting public transportation during these times could help alleviate congestion.\")\n",
    "print(\"- **Model Improvement:** The poor performance of the linear regression model indicates that more sophisticated models (e.g., models accounting for seasonality, non-linear relationships, or external factors) are needed for accurate traffic prediction to support dynamic route suggestions or traffic management systems.\")\n",
    "print(\"- **Data Granularity:** Analyzing traffic at a finer granularity (e.g., by specific routes or intersections) would provide more targeted insights for planning and suggestions.\")"
   ]
  },
  {
   "cell_type": "code",
   "execution_count": null,
   "id": "2b11d32a-cdc3-46d1-bcb6-bddd9bf740d9",
   "metadata": {},
   "outputs": [],
   "source": []
  }
 ],
 "metadata": {
  "kernelspec": {
   "display_name": "Python 3 (ipykernel)",
   "language": "python",
   "name": "python3"
  },
  "language_info": {
   "codemirror_mode": {
    "name": "ipython",
    "version": 3
   },
   "file_extension": ".py",
   "mimetype": "text/x-python",
   "name": "python",
   "nbconvert_exporter": "python",
   "pygments_lexer": "ipython3",
   "version": "3.12.3"
  }
 },
 "nbformat": 4,
 "nbformat_minor": 5
}
